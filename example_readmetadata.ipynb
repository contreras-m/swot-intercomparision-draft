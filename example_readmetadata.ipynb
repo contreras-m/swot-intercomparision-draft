{
 "cells": [
  {
   "cell_type": "markdown",
   "id": "a2647d10-ca46-4285-a840-7f81669e58d6",
   "metadata": {},
   "source": [
    "# Example for reading a metadata file\n",
    "This is a example for read the information provied by a yaml file. Information based in eORCA25 simulation"
   ]
  },
  {
   "cell_type": "code",
   "execution_count": 1,
   "id": "d41bed14-3675-4d92-92ce-3ce36f2da31f",
   "metadata": {},
   "outputs": [],
   "source": [
    "import yaml\n",
    "\n",
    "# Load the YAML metadata\n",
    "with open(\"./metadata_example.yaml\", \"r\") as f:\n",
    "   metadata = yaml.safe_load(f)\n"
   ]
  },
  {
   "cell_type": "code",
   "execution_count": 2,
   "id": "3570c693-be87-4028-bd11-a38615a9c381",
   "metadata": {},
   "outputs": [
    {
     "name": "stdout",
     "output_type": "stream",
     "text": [
      "Model Key: eORCA25\n",
      "  data_provider: {'institution_name': 'IGE', 'contact_email': 'marcela.contreras@univ-grenoble-alpes.fr'}\n",
      "  model_information: {'simulation_name': 'eORCA025-MLE.STD', 'simulation_codebase': 'NEMO', 'codebase_version': '4.2.1'}\n",
      "  model_dataset: {'output_frequency': '24 h', 'type_of_average': '24 h', 'model_year': '1966', 'source_url': '…'}\n",
      "  model_grid: {'global': 'True', 'grid_points': '1204x1440', 'minimum_horizontal_gridsize': '18 km', 'maximum_horizontal_gridsize': '25 km', 'number_of_vertical_levels': '75', 'minimum_vertical_gridsize': '2 m', 'maximum_vertical_gridsize': '30 m', 'arakawa_grid_type': 'C', 'vertical_coordinate': 'pressure', 'bathymetry': 'ETOPO2', 'nested_model': 'False'}\n",
      "  model_experiment: {'initial_condition': 'WOA', 'date_initialization': '1958', 'atmospheric_forcing_dataset': 'JRA', 'atmospheric_forcing_frequency': '3h', 'atmospheric_model': 'None', 'atmopheric_pressure_forcing': 'False', 'wave_model': 'None', 'sea_ice_model': 'SI3', 'lateral_boundary_condition': 'None', 'lateral_boundary_condition_frequency': 'None', 'river_runoff_dataset': 'Dai and Trenberth, 2002', 'tidal_constituents': 'None'}\n",
      "  model_parameters: {'bulk_formulae': 'COARE2', 'wind_stress': 'relative', 'horizontal_momentum_advection_scheme': '2nd centered scheme', 'horizontal_tracer_advection_scheme': '2nd Order FCT scheme', 'vertical_momentum_advection_scheme': 'adaptive-implicit vertical advection', 'vertical_tracer_advection-scheme': '2nd Order FCT scheme', 'horizontal_momentum_dissipation': 'horizontal  (geopotential)', 'horizontal_tracer_dissipation': 'Laplacian operator', 'SBL-parameterization': 'TKE+ESVD', 'equation-state': 'TEOS-10', 'Bottom-drag': 'non-linear drag', 'Bottom-drag-coeff': '1.e-3'}\n"
     ]
    }
   ],
   "source": [
    "# Read all the information from metadata_example.yaml\n",
    "if metadata is None:\n",
    "    print(\"YAML file is empty or could not be parsed.\")\n",
    "else:\n",
    "    for key, value in metadata.items():\n",
    "        print(f\"Model Key: {key}\")\n",
    "        if value is not None and isinstance(value, dict):\n",
    "            for subkey, subvalue in value.items():\n",
    "                print(f\"  {subkey}: {subvalue}\")\n",
    "        else:\n",
    "            print(\"  Warning: Expected a dictionary but got something else.\")"
   ]
  },
  {
   "cell_type": "code",
   "execution_count": 3,
   "id": "339beff4-8ddd-484f-a4bf-32dfc4cb3aea",
   "metadata": {},
   "outputs": [
    {
     "name": "stdout",
     "output_type": "stream",
     "text": [
      "Reading eORCA25 metadata:\n",
      "data_provider: {'institution_name': 'IGE', 'contact_email': 'marcela.contreras@univ-grenoble-alpes.fr'}\n",
      "model_information: {'simulation_name': 'eORCA025-MLE.STD', 'simulation_codebase': 'NEMO', 'codebase_version': '4.2.1'}\n",
      "model_dataset: {'output_frequency': '24 h', 'type_of_average': '24 h', 'model_year': '1966', 'source_url': '…'}\n",
      "model_grid: {'global': 'True', 'grid_points': '1204x1440', 'minimum_horizontal_gridsize': '18 km', 'maximum_horizontal_gridsize': '25 km', 'number_of_vertical_levels': '75', 'minimum_vertical_gridsize': '2 m', 'maximum_vertical_gridsize': '30 m', 'arakawa_grid_type': 'C', 'vertical_coordinate': 'pressure', 'bathymetry': 'ETOPO2', 'nested_model': 'False'}\n",
      "model_experiment: {'initial_condition': 'WOA', 'date_initialization': '1958', 'atmospheric_forcing_dataset': 'JRA', 'atmospheric_forcing_frequency': '3h', 'atmospheric_model': 'None', 'atmopheric_pressure_forcing': 'False', 'wave_model': 'None', 'sea_ice_model': 'SI3', 'lateral_boundary_condition': 'None', 'lateral_boundary_condition_frequency': 'None', 'river_runoff_dataset': 'Dai and Trenberth, 2002', 'tidal_constituents': 'None'}\n",
      "model_parameters: {'bulk_formulae': 'COARE2', 'wind_stress': 'relative', 'horizontal_momentum_advection_scheme': '2nd centered scheme', 'horizontal_tracer_advection_scheme': '2nd Order FCT scheme', 'vertical_momentum_advection_scheme': 'adaptive-implicit vertical advection', 'vertical_tracer_advection-scheme': '2nd Order FCT scheme', 'horizontal_momentum_dissipation': 'horizontal  (geopotential)', 'horizontal_tracer_dissipation': 'Laplacian operator', 'SBL-parameterization': 'TKE+ESVD', 'equation-state': 'TEOS-10', 'Bottom-drag': 'non-linear drag', 'Bottom-drag-coeff': '1.e-3'}\n"
     ]
    }
   ],
   "source": [
    "# Read the information of one model \n",
    "eorca_data = metadata.get(\"eORCA25\")\n",
    "\n",
    "if eorca_data is not None:\n",
    "    print(\"Reading eORCA25 metadata:\")\n",
    "    for key, value in eorca_data.items():\n",
    "        print(f\"{key}: {value}\")\n",
    "else:\n",
    "    print(\"eORCA25 section not found.\")"
   ]
  }
 ],
 "metadata": {
  "kernelspec": {
   "display_name": "Python 3 (ipykernel)",
   "language": "python",
   "name": "python3"
  },
  "language_info": {
   "codemirror_mode": {
    "name": "ipython",
    "version": 3
   },
   "file_extension": ".py",
   "mimetype": "text/x-python",
   "name": "python",
   "nbconvert_exporter": "python",
   "pygments_lexer": "ipython3",
   "version": "3.12.2"
  }
 },
 "nbformat": 4,
 "nbformat_minor": 5
}
